{
  "nbformat": 4,
  "nbformat_minor": 0,
  "metadata": {
    "colab": {
      "name": "h8dsft_Linear_Algebra2.ipynb",
      "provenance": []
    },
    "kernelspec": {
      "name": "python3",
      "display_name": "Python 3"
    },
    "language_info": {
      "name": "python"
    }
  },
  "cells": [
    {
      "cell_type": "code",
      "metadata": {
        "id": "3pPkXZFj8OuK"
      },
      "source": [
        "import numpy as np"
      ],
      "execution_count": 1,
      "outputs": []
    },
    {
      "cell_type": "code",
      "metadata": {
        "colab": {
          "base_uri": "https://localhost:8080/"
        },
        "id": "_WqcefFw5nQe",
        "outputId": "1c80addc-b901-4bf0-c35d-9b3dc2ea8e25"
      },
      "source": [
        "# Membuat Tensor\n",
        "tensor=np.array([\n",
        "                [[23,50,7,12],[75,21,57,12]],\n",
        "                [[57,56,99,43],[87,26,18,84]]])\n",
        "print(tensor)"
      ],
      "execution_count": 3,
      "outputs": [
        {
          "output_type": "stream",
          "name": "stdout",
          "text": [
            "[[[23 50  7 12]\n",
            "  [75 21 57 12]]\n",
            "\n",
            " [[57 56 99 43]\n",
            "  [87 26 18 84]]]\n"
          ]
        }
      ]
    },
    {
      "cell_type": "code",
      "metadata": {
        "colab": {
          "base_uri": "https://localhost:8080/"
        },
        "id": "Yu8NkGa38jyP",
        "outputId": "890d9194-f618-4da5-b92c-34d164fac15a"
      },
      "source": [
        "#perkalian matrix\n",
        "A=np.array([[23,50,19],[7,12,109],[57,67,98]])\n",
        "B=np.array([17,22,19])\n",
        "\n",
        "print(A*B)"
      ],
      "execution_count": 21,
      "outputs": [
        {
          "output_type": "stream",
          "name": "stdout",
          "text": [
            "[[ 391 1100  361]\n",
            " [ 119  264 2071]\n",
            " [ 969 1474 1862]]\n"
          ]
        }
      ]
    },
    {
      "cell_type": "code",
      "metadata": {
        "id": "WrxKRb-R__AV"
      },
      "source": [
        "A=np.array([[23,50,19],\n",
        "            [7,12,109],\n",
        "            [57,67,98]])"
      ],
      "execution_count": 19,
      "outputs": []
    },
    {
      "cell_type": "code",
      "metadata": {
        "colab": {
          "base_uri": "https://localhost:8080/"
        },
        "id": "EmJhPMHLAtYw",
        "outputId": "2a3928ee-1e99-4cb2-f492-b60e9bd1e8c9"
      },
      "source": [
        "# Tranpose\n",
        "print(A.T)"
      ],
      "execution_count": 23,
      "outputs": [
        {
          "output_type": "stream",
          "name": "stdout",
          "text": [
            "[[ 23   7  57]\n",
            " [ 50  12  67]\n",
            " [ 19 109  98]]\n"
          ]
        }
      ]
    },
    {
      "cell_type": "code",
      "metadata": {
        "colab": {
          "base_uri": "https://localhost:8080/"
        },
        "id": "zY2HwfGACHoS",
        "outputId": "4664aad5-43c8-44c2-c15c-26a1af96b320"
      },
      "source": [
        "# Menghitung Determinan\n",
        "print(np.linalg.det(A))"
      ],
      "execution_count": 25,
      "outputs": [
        {
          "output_type": "stream",
          "name": "stdout",
          "text": [
            "131344.0000000002\n"
          ]
        }
      ]
    },
    {
      "cell_type": "code",
      "metadata": {
        "colab": {
          "base_uri": "https://localhost:8080/"
        },
        "id": "bNGthIq8CWY6",
        "outputId": "60d17d4b-f4a8-407e-dcc7-422d0579a524"
      },
      "source": [
        "#invers\n",
        "print(np.linalg.inv(A))"
      ],
      "execution_count": 26,
      "outputs": [
        {
          "output_type": "stream",
          "name": "stdout",
          "text": [
            "[[-0.0466485  -0.02761451  0.03975819]\n",
            " [ 0.04208034  0.00891552 -0.01807467]\n",
            " [-0.00163692  0.0099662  -0.00056341]]\n"
          ]
        }
      ]
    }
  ]
}