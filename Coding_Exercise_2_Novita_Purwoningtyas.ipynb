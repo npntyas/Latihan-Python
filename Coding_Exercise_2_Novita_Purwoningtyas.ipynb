{
  "nbformat": 4,
  "nbformat_minor": 0,
  "metadata": {
    "colab": {
      "name": "Coding Exercise 2_Novita Purwoningtyas.ipynb",
      "provenance": [],
      "collapsed_sections": []
    },
    "kernelspec": {
      "name": "python3",
      "display_name": "Python 3"
    },
    "language_info": {
      "name": "python"
    }
  },
  "cells": [
    {
      "cell_type": "markdown",
      "metadata": {
        "id": "mFu8m7hdJh7n"
      },
      "source": [
        "**Novita Purwoningtyas**\n",
        "\n",
        "**Data Science Batch 08**"
      ]
    },
    {
      "cell_type": "markdown",
      "metadata": {
        "id": "Ovz-9PouQKU6"
      },
      "source": [
        "#Soal 2"
      ]
    },
    {
      "cell_type": "markdown",
      "metadata": {
        "id": "SSONmfrHniEA"
      },
      "source": [
        "Menentukan akar-akar persamaan kuadrat menggunakan nilai a, b, dan c (Rumus ABC)"
      ]
    },
    {
      "cell_type": "code",
      "metadata": {
        "colab": {
          "base_uri": "https://localhost:8080/"
        },
        "id": "cxh63uibQNcc",
        "outputId": "e776f42c-0f2c-401e-b0b0-3f13ab79e255"
      },
      "source": [
        "#Import library yang akan digunkaan untuk perhitungan rumus matematika\n",
        "import cmath\n",
        "\n",
        "\n",
        "a = int(input('Masukan nilai a: '))  \n",
        "b = int(input('Masukan nilai b: '))  \n",
        "c = int(input('Masukan nilai c: '))\n",
        "\n",
        "#Menentukan nilai diskriminan nya\n",
        "d = (b**2)-(4 * a * c)\n",
        "\n",
        "if d < 0:\n",
        "  print ('Gak ada solusi')\n",
        "elif d == 0:\n",
        "  X = (-b + cmath.sqrt(d)) / (2 * a) #Rumus akar persamaan kuadrat\n",
        "  print('X adalah: ' + str(X))\n",
        "else:\n",
        "  X1 = (-b + cmath.sqrt(d)) / (2 * a)\n",
        "  X2 = (-b - cmath.sqrt(d)) / (2 * a)\n",
        "  print('X1 adalah: ' + str(X1), 'X2 adalah: ' + str(X2))\n"
      ],
      "execution_count": 1,
      "outputs": [
        {
          "output_type": "stream",
          "name": "stdout",
          "text": [
            "Masukan nilai a: 1\n",
            "Masukan nilai b: -5\n",
            "Masukan nilai c: 6\n",
            "X1 adalah: (3+0j) X2 adalah: (2+0j)\n"
          ]
        }
      ]
    },
    {
      "cell_type": "markdown",
      "metadata": {
        "id": "MCOVNNjZvnTu"
      },
      "source": [
        "#Soal 3"
      ]
    },
    {
      "cell_type": "markdown",
      "metadata": {
        "id": "LGO_dv9wi9gs"
      },
      "source": [
        "Menghitung jarak 2 koordinat menggunakan euclidean distance formula"
      ]
    },
    {
      "cell_type": "code",
      "metadata": {
        "colab": {
          "base_uri": "https://localhost:8080/"
        },
        "id": "m_VDdUGxvpUA",
        "outputId": "b790119b-c4c1-49cb-ebb9-50db53950ee0"
      },
      "source": [
        "#Library yang digunakan\n",
        "import numpy as np\n",
        "\n",
        "#2 koordinatnya di jadiin array dulu biar gampang hitung pake rumus np.square\n",
        "titik1 =np.array((0,-1))\n",
        "titik2 =np.array((-3,2))\n",
        "\n",
        "def jarak (titik1, titik2):\n",
        "  d = np.sqrt(np.sum(np.square(titik1-titik2))) #rumus jarak euclidean\n",
        "  return d\n",
        "print('Jaraknya adalah: ' + str(jarak(titik1, titik2)))"
      ],
      "execution_count": 11,
      "outputs": [
        {
          "output_type": "stream",
          "name": "stdout",
          "text": [
            "Jaraknya adalah: 4.242640687119285\n"
          ]
        }
      ]
    },
    {
      "cell_type": "markdown",
      "metadata": {
        "id": "vSAMr8MTJqx0"
      },
      "source": [
        "#Soal 1"
      ]
    },
    {
      "cell_type": "markdown",
      "metadata": {
        "id": "mNxPxHdEJwg4"
      },
      "source": [
        "Menentukan siapa yang nilainya paling tinggi pada urutan ke 3."
      ]
    },
    {
      "cell_type": "code",
      "metadata": {
        "id": "PpmHqDAGJUun"
      },
      "source": [
        "Nama = ['Budi', 'Ani', 'Nisa', 'Anton', 'Lulu', 'Qory', 'Akmal', 'Novi']\n",
        "Nilai = [97, 98, 76, 57, 90, 65, 66, 80]"
      ],
      "execution_count": 2,
      "outputs": []
    },
    {
      "cell_type": "code",
      "metadata": {
        "colab": {
          "base_uri": "https://localhost:8080/"
        },
        "id": "P6kPGki5rYsj",
        "outputId": "642d6e35-1a3c-4caf-c9c6-e98bbe94db2c"
      },
      "source": [
        "nama_nilai = sorted(zip(Nama, Nilai))\n",
        "nama_nilai"
      ],
      "execution_count": 8,
      "outputs": [
        {
          "output_type": "execute_result",
          "data": {
            "text/plain": [
              "[('Akmal', 66),\n",
              " ('Ani', 98),\n",
              " ('Anton', 57),\n",
              " ('Budi', 97),\n",
              " ('Lulu', 90),\n",
              " ('Nisa', 76),\n",
              " ('Novi', 80),\n",
              " ('Qory', 65)]"
            ]
          },
          "metadata": {},
          "execution_count": 8
        }
      ]
    },
    {
      "cell_type": "code",
      "metadata": {
        "colab": {
          "base_uri": "https://localhost:8080/"
        },
        "id": "R6RIjovyWFD6",
        "outputId": "ae7d1260-6fb5-467a-8082-6ca81a61beae"
      },
      "source": [
        "urutan  = sorted(zip(Nama, Nilai), key=lambda x: x[1], reverse=True)\n",
        "urutan"
      ],
      "execution_count": 54,
      "outputs": [
        {
          "output_type": "execute_result",
          "data": {
            "text/plain": [
              "[('Ani', 98),\n",
              " ('Budi', 97),\n",
              " ('Lulu', 90),\n",
              " ('Novi', 80),\n",
              " ('Nisa', 76),\n",
              " ('Akmal', 66),\n",
              " ('Qory', 65),\n",
              " ('Anton', 57)]"
            ]
          },
          "metadata": {},
          "execution_count": 54
        }
      ]
    },
    {
      "cell_type": "code",
      "metadata": {
        "colab": {
          "base_uri": "https://localhost:8080/"
        },
        "id": "-ZyjX9-QslVC",
        "outputId": "9f1745ed-17f0-4319-ddf3-bff83c44fe3f"
      },
      "source": [
        "pertama = Nilai[0]\n",
        "kedua = Nilai[0]\n",
        "ketiga = Nilai[0]\n",
        "for i in Nilai:\n",
        "  if i > pertama :\n",
        "      ketiga = kedua\n",
        "      kedua = pertama\n",
        "      pertama = i\n",
        "  elif i > kedua :\n",
        "      ketiga = kedua\n",
        "      pertama = i\n",
        "  elif i > ketiga :\n",
        "      ketiga = i\n",
        "print(\"Third largest number of the list is {}\".format(ketiga))"
      ],
      "execution_count": 10,
      "outputs": [
        {
          "output_type": "stream",
          "name": "stdout",
          "text": [
            "Third largest number of the list is 97\n"
          ]
        }
      ]
    },
    {
      "cell_type": "code",
      "metadata": {
        "colab": {
          "base_uri": "https://localhost:8080/"
        },
        "id": "1BzXznZ7p6Jz",
        "outputId": "b7a493b4-7766-43d6-a95c-7096df73af62"
      },
      "source": [
        "def urutan_ketiga(nama_nilai):\n",
        "  pertama = Nilai[0]\n",
        "  kedua = Nilai[0]\n",
        "  ketiga = Nilai[0]\n",
        "  for i in Nilai:\n",
        "    if i > pertama :\n",
        "        ketiga = kedua\n",
        "        kedua = pertama\n",
        "        pertama = i\n",
        "    elif i > kedua :\n",
        "        ketiga = kedua\n",
        "        pertama = i\n",
        "    elif i > ketiga :\n",
        "        ketiga = i\n",
        "print(\"Third largest number of the list is {}\".format(urutan_ketiga))"
      ],
      "execution_count": 9,
      "outputs": [
        {
          "output_type": "stream",
          "name": "stdout",
          "text": [
            "Third largest number of the list is <function urutan_ketiga at 0x7fe5a10cb950>\n"
          ]
        }
      ]
    },
    {
      "cell_type": "markdown",
      "metadata": {
        "id": "X4FQaQwoj1g_"
      },
      "source": [
        "Soal no 1 gak selesai karna saya stuck. "
      ]
    }
  ]
}