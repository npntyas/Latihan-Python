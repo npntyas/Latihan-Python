{
  "nbformat": 4,
  "nbformat_minor": 0,
  "metadata": {
    "colab": {
      "name": "Tugas Day7 - Novita Purwoningtyas.ipynb",
      "provenance": []
    },
    "kernelspec": {
      "name": "python3",
      "display_name": "Python 3"
    },
    "language_info": {
      "name": "python"
    }
  },
  "cells": [
    {
      "cell_type": "markdown",
      "metadata": {
        "id": "vqWnsQ4HPcIZ"
      },
      "source": [
        "**Novita Purwonintyas | Batch 8**"
      ]
    },
    {
      "cell_type": "markdown",
      "metadata": {
        "id": "jxtKkK3IPtRi"
      },
      "source": [
        "#Membuat data frame "
      ]
    },
    {
      "cell_type": "code",
      "metadata": {
        "id": "E00P8Rg1PaQe"
      },
      "source": [
        "#import library yang akan digunakan\n",
        "import pandas as pd"
      ],
      "execution_count": 2,
      "outputs": []
    },
    {
      "cell_type": "code",
      "metadata": {
        "colab": {
          "base_uri": "https://localhost:8080/",
          "height": 363
        },
        "id": "fpy5mEk2P3xC",
        "outputId": "f14f1ab7-d390-4a33-ef3e-0f6a149ba09d"
      },
      "source": [
        "data = {'Nama':['Sinta', 'Rachel', 'Wisnu', 'Budi', 'Lita', 'Nita', 'Danu', 'Nina', 'Ani', 'Lisa'],\n",
        "        'Tempat_lahir':['Depok', 'Jakarta', 'Bandung', 'Surabaya', 'Denpasar', 'Jakarta', 'Bekasi', 'Depok', 'Jakarta', 'Sulawesi'],\n",
        "        'Tanggal_lahir':['01/11/1998', '20/09/1997', '13/01/2000', '25/10/1999', '09/12/2003', '10/11/1993', '18/06/1965', '09/07/1995', '07/07/1997', '12/12/2001'],\n",
        "        'Tanggal_terakhir_belanja':['09/11/2021', '15/11/2021', '19/11/2021', '21/11/2021', '08/11/2021', '26/11/2021', '06/11/2021', '11/11/2021', '23/11/2021', '20/11/2021'],\n",
        "        'Rata_rata_amount/bulan':[150000, 200000, 79000, 110000, 99000, 101000, 90000, 250000, 300000, 89000],\n",
        "        'Total_transaksi/bulan':[2, 3, 6, 1, 8, 10, 7, 3, 2, 6]}\n",
        "df = pd.DataFrame(data, index=[1,2,3,4,5,6,7,8,9,10])\n",
        "df"
      ],
      "execution_count": 11,
      "outputs": [
        {
          "output_type": "execute_result",
          "data": {
            "text/html": [
              "<div>\n",
              "<style scoped>\n",
              "    .dataframe tbody tr th:only-of-type {\n",
              "        vertical-align: middle;\n",
              "    }\n",
              "\n",
              "    .dataframe tbody tr th {\n",
              "        vertical-align: top;\n",
              "    }\n",
              "\n",
              "    .dataframe thead th {\n",
              "        text-align: right;\n",
              "    }\n",
              "</style>\n",
              "<table border=\"1\" class=\"dataframe\">\n",
              "  <thead>\n",
              "    <tr style=\"text-align: right;\">\n",
              "      <th></th>\n",
              "      <th>Nama</th>\n",
              "      <th>Tempat_lahir</th>\n",
              "      <th>Tanggal_lahir</th>\n",
              "      <th>Tanggal_terakhir_belanja</th>\n",
              "      <th>Rata_rata_amount/bulan</th>\n",
              "      <th>Total_transaksi/bulan</th>\n",
              "    </tr>\n",
              "  </thead>\n",
              "  <tbody>\n",
              "    <tr>\n",
              "      <th>1</th>\n",
              "      <td>Sinta</td>\n",
              "      <td>Depok</td>\n",
              "      <td>01/11/1998</td>\n",
              "      <td>09/11/2021</td>\n",
              "      <td>150000</td>\n",
              "      <td>2</td>\n",
              "    </tr>\n",
              "    <tr>\n",
              "      <th>2</th>\n",
              "      <td>Rachel</td>\n",
              "      <td>Jakarta</td>\n",
              "      <td>20/09/1997</td>\n",
              "      <td>15/11/2021</td>\n",
              "      <td>200000</td>\n",
              "      <td>3</td>\n",
              "    </tr>\n",
              "    <tr>\n",
              "      <th>3</th>\n",
              "      <td>Wisnu</td>\n",
              "      <td>Bandung</td>\n",
              "      <td>13/01/2000</td>\n",
              "      <td>19/11/2021</td>\n",
              "      <td>79000</td>\n",
              "      <td>6</td>\n",
              "    </tr>\n",
              "    <tr>\n",
              "      <th>4</th>\n",
              "      <td>Budi</td>\n",
              "      <td>Surabaya</td>\n",
              "      <td>25/10/1999</td>\n",
              "      <td>21/11/2021</td>\n",
              "      <td>110000</td>\n",
              "      <td>1</td>\n",
              "    </tr>\n",
              "    <tr>\n",
              "      <th>5</th>\n",
              "      <td>Lita</td>\n",
              "      <td>Denpasar</td>\n",
              "      <td>09/12/2003</td>\n",
              "      <td>08/11/2021</td>\n",
              "      <td>99000</td>\n",
              "      <td>8</td>\n",
              "    </tr>\n",
              "    <tr>\n",
              "      <th>6</th>\n",
              "      <td>Nita</td>\n",
              "      <td>Jakarta</td>\n",
              "      <td>10/11/1993</td>\n",
              "      <td>26/11/2021</td>\n",
              "      <td>101000</td>\n",
              "      <td>10</td>\n",
              "    </tr>\n",
              "    <tr>\n",
              "      <th>7</th>\n",
              "      <td>Danu</td>\n",
              "      <td>Bekasi</td>\n",
              "      <td>18/06/1965</td>\n",
              "      <td>06/11/2021</td>\n",
              "      <td>90000</td>\n",
              "      <td>7</td>\n",
              "    </tr>\n",
              "    <tr>\n",
              "      <th>8</th>\n",
              "      <td>Nina</td>\n",
              "      <td>Depok</td>\n",
              "      <td>09/07/1995</td>\n",
              "      <td>11/11/2021</td>\n",
              "      <td>250000</td>\n",
              "      <td>3</td>\n",
              "    </tr>\n",
              "    <tr>\n",
              "      <th>9</th>\n",
              "      <td>Ani</td>\n",
              "      <td>Jakarta</td>\n",
              "      <td>07/07/1997</td>\n",
              "      <td>23/11/2021</td>\n",
              "      <td>300000</td>\n",
              "      <td>2</td>\n",
              "    </tr>\n",
              "    <tr>\n",
              "      <th>10</th>\n",
              "      <td>Lisa</td>\n",
              "      <td>Sulawesi</td>\n",
              "      <td>12/12/2001</td>\n",
              "      <td>20/11/2021</td>\n",
              "      <td>89000</td>\n",
              "      <td>6</td>\n",
              "    </tr>\n",
              "  </tbody>\n",
              "</table>\n",
              "</div>"
            ],
            "text/plain": [
              "      Nama Tempat_lahir  ... Rata_rata_amount/bulan Total_transaksi/bulan\n",
              "1    Sinta        Depok  ...                 150000                     2\n",
              "2   Rachel      Jakarta  ...                 200000                     3\n",
              "3    Wisnu      Bandung  ...                  79000                     6\n",
              "4     Budi     Surabaya  ...                 110000                     1\n",
              "5     Lita     Denpasar  ...                  99000                     8\n",
              "6     Nita      Jakarta  ...                 101000                    10\n",
              "7     Danu       Bekasi  ...                  90000                     7\n",
              "8     Nina        Depok  ...                 250000                     3\n",
              "9      Ani      Jakarta  ...                 300000                     2\n",
              "10    Lisa     Sulawesi  ...                  89000                     6\n",
              "\n",
              "[10 rows x 6 columns]"
            ]
          },
          "metadata": {},
          "execution_count": 11
        }
      ]
    },
    {
      "cell_type": "markdown",
      "metadata": {
        "id": "SeX4DdyETqNV"
      },
      "source": [
        "#Filtering data customer terloyal"
      ]
    },
    {
      "cell_type": "code",
      "metadata": {
        "colab": {
          "base_uri": "https://localhost:8080/",
          "height": 81
        },
        "id": "qNWlmjJxTxMY",
        "outputId": "e24dc0c4-b89d-4aa6-a792-e4b458cdf858"
      },
      "source": [
        "df[\n",
        "   (df['Rata_rata_amount/bulan'] > 100000) & (df['Total_transaksi/bulan'] > 5)]"
      ],
      "execution_count": 12,
      "outputs": [
        {
          "output_type": "execute_result",
          "data": {
            "text/html": [
              "<div>\n",
              "<style scoped>\n",
              "    .dataframe tbody tr th:only-of-type {\n",
              "        vertical-align: middle;\n",
              "    }\n",
              "\n",
              "    .dataframe tbody tr th {\n",
              "        vertical-align: top;\n",
              "    }\n",
              "\n",
              "    .dataframe thead th {\n",
              "        text-align: right;\n",
              "    }\n",
              "</style>\n",
              "<table border=\"1\" class=\"dataframe\">\n",
              "  <thead>\n",
              "    <tr style=\"text-align: right;\">\n",
              "      <th></th>\n",
              "      <th>Nama</th>\n",
              "      <th>Tempat_lahir</th>\n",
              "      <th>Tanggal_lahir</th>\n",
              "      <th>Tanggal_terakhir_belanja</th>\n",
              "      <th>Rata_rata_amount/bulan</th>\n",
              "      <th>Total_transaksi/bulan</th>\n",
              "    </tr>\n",
              "  </thead>\n",
              "  <tbody>\n",
              "    <tr>\n",
              "      <th>6</th>\n",
              "      <td>Nita</td>\n",
              "      <td>Jakarta</td>\n",
              "      <td>10/11/1993</td>\n",
              "      <td>26/11/2021</td>\n",
              "      <td>101000</td>\n",
              "      <td>10</td>\n",
              "    </tr>\n",
              "  </tbody>\n",
              "</table>\n",
              "</div>"
            ],
            "text/plain": [
              "   Nama Tempat_lahir  ... Rata_rata_amount/bulan Total_transaksi/bulan\n",
              "6  Nita      Jakarta  ...                 101000                    10\n",
              "\n",
              "[1 rows x 6 columns]"
            ]
          },
          "metadata": {},
          "execution_count": 12
        }
      ]
    },
    {
      "cell_type": "markdown",
      "metadata": {
        "id": "P1IsL0ytU8dJ"
      },
      "source": [
        "Filtering data diatas menampilan cutomer terloyal yang rata - rata amount belanja/bulaya > 100.000 dan total transaksi perbulanya > 5 transaksi."
      ]
    }
  ]
}