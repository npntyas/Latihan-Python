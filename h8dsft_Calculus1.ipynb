{
  "nbformat": 4,
  "nbformat_minor": 0,
  "metadata": {
    "colab": {
      "name": "h8dsft_Calculus1.ipynb",
      "provenance": []
    },
    "kernelspec": {
      "name": "python3",
      "display_name": "Python 3"
    },
    "language_info": {
      "name": "python"
    }
  },
  "cells": [
    {
      "cell_type": "markdown",
      "metadata": {
        "id": "BkeHXSs5DkrH"
      },
      "source": [
        "**Mencari turunan dari sebuah fungsi**"
      ]
    },
    {
      "cell_type": "code",
      "metadata": {
        "id": "uzi2T2z7-6S2"
      },
      "source": [
        "import sympy as sy"
      ],
      "execution_count": 2,
      "outputs": []
    },
    {
      "cell_type": "code",
      "metadata": {
        "colab": {
          "base_uri": "https://localhost:8080/",
          "height": 38
        },
        "id": "q39TMXKV_LNy",
        "outputId": "cc84297f-5c67-4ca1-afca-5c52858dcb5e"
      },
      "source": [
        "x = sy.Symbol('x', real=True)\n",
        "f = 1*x**2+2*x+1\n",
        "f.diff(x)"
      ],
      "execution_count": 4,
      "outputs": [
        {
          "output_type": "execute_result",
          "data": {
            "text/latex": "$\\displaystyle 2 x + 2$",
            "text/plain": [
              "2*x + 2"
            ]
          },
          "metadata": {},
          "execution_count": 4
        }
      ]
    },
    {
      "cell_type": "markdown",
      "metadata": {
        "id": "fW3-yjH1APB4"
      },
      "source": [
        "Hitungan secara manual \n",
        "\n",
        "F = $x^2 + 2x +1$\n",
        "\n",
        "= $2x + 2$"
      ]
    },
    {
      "cell_type": "code",
      "metadata": {
        "colab": {
          "base_uri": "https://localhost:8080/",
          "height": 38
        },
        "id": "AoSLCku5AfXp",
        "outputId": "ca6d550d-08ab-468f-ee6d-1fb69e0459e2"
      },
      "source": [
        "f = 4*x**3-3*x**2+2*x-1\n",
        "f.diff(x)"
      ],
      "execution_count": 7,
      "outputs": [
        {
          "output_type": "execute_result",
          "data": {
            "text/latex": "$\\displaystyle 12 x^{2} - 6 x + 2$",
            "text/plain": [
              "12*x**2 - 6*x + 2"
            ]
          },
          "metadata": {},
          "execution_count": 7
        }
      ]
    },
    {
      "cell_type": "markdown",
      "metadata": {
        "id": "vGPPT9O4DBkA"
      },
      "source": [
        "Hitungan secara manual \n",
        "\n",
        "F = $4x^3 - 3x^2 + 2x - 1$\n",
        "\n",
        "= $ 12x^2 - 6x^2 + 2$"
      ]
    }
  ]
}