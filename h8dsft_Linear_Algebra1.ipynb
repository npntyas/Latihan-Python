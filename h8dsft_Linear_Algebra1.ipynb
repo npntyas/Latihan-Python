{
  "nbformat": 4,
  "nbformat_minor": 0,
  "metadata": {
    "colab": {
      "name": "h8dsft_Linear_Algebra1.ipynb",
      "provenance": []
    },
    "kernelspec": {
      "name": "python3",
      "display_name": "Python 3"
    },
    "language_info": {
      "name": "python"
    }
  },
  "cells": [
    {
      "cell_type": "code",
      "metadata": {
        "id": "ECONRNgWwzGA"
      },
      "source": [
        "import numpy as np"
      ],
      "execution_count": 1,
      "outputs": []
    },
    {
      "cell_type": "code",
      "metadata": {
        "colab": {
          "base_uri": "https://localhost:8080/"
        },
        "id": "MxW4NETKw9IE",
        "outputId": "cf4f0fc5-e3b7-4185-dc5a-fafb25711fe8"
      },
      "source": [
        "#membuat vektor\n",
        "a = [17,22,19]\n",
        "np.array(a)"
      ],
      "execution_count": 2,
      "outputs": [
        {
          "output_type": "execute_result",
          "data": {
            "text/plain": [
              "array([17, 22, 19])"
            ]
          },
          "metadata": {},
          "execution_count": 2
        }
      ]
    },
    {
      "cell_type": "code",
      "metadata": {
        "id": "BV0PQRWbxQIo"
      },
      "source": [
        "# 3 buah vektor 3 dimensi\n",
        "a=np.array([17,22,19])\n",
        "b=np.array([10,20,11])\n",
        "c=np.array([5,12,9])"
      ],
      "execution_count": 3,
      "outputs": []
    },
    {
      "cell_type": "code",
      "metadata": {
        "colab": {
          "base_uri": "https://localhost:8080/"
        },
        "id": "76WTZ03zyH2R",
        "outputId": "8b227bfc-2b34-4d6a-ebf2-31ee31fbbd20"
      },
      "source": [
        "#hitung A+B\n",
        "jumlah=a+b\n",
        "print(jumlah)"
      ],
      "execution_count": 4,
      "outputs": [
        {
          "output_type": "stream",
          "name": "stdout",
          "text": [
            "[27 42 30]\n"
          ]
        }
      ]
    },
    {
      "cell_type": "code",
      "metadata": {
        "colab": {
          "base_uri": "https://localhost:8080/"
        },
        "id": "esigpK9ayQo-",
        "outputId": "1bde8a7c-fa05-4a5d-cb71-f87063930123"
      },
      "source": [
        "#hitung B-C\n",
        "jumlah=b-c\n",
        "print(jumlah)"
      ],
      "execution_count": 5,
      "outputs": [
        {
          "output_type": "stream",
          "name": "stdout",
          "text": [
            "[5 8 2]\n"
          ]
        }
      ]
    },
    {
      "cell_type": "code",
      "metadata": {
        "colab": {
          "base_uri": "https://localhost:8080/"
        },
        "id": "-iX5EmQvyWx0",
        "outputId": "aea6d305-d747-402a-96cf-efcc82d13dd7"
      },
      "source": [
        "# A dot C\n",
        "hasil=a@b\n",
        "print(hasil)"
      ],
      "execution_count": 6,
      "outputs": [
        {
          "output_type": "stream",
          "name": "stdout",
          "text": [
            "819\n"
          ]
        }
      ]
    },
    {
      "cell_type": "code",
      "metadata": {
        "colab": {
          "base_uri": "https://localhost:8080/"
        },
        "id": "nokHgv0C1qcH",
        "outputId": "146a5e71-736c-4cc2-92a2-4e19c1f3c9e5"
      },
      "source": [
        "# hitung A X B\n",
        "jumlah = a * b\n",
        "print(jumlah)"
      ],
      "execution_count": 7,
      "outputs": [
        {
          "output_type": "stream",
          "name": "stdout",
          "text": [
            "[170 440 209]\n"
          ]
        }
      ]
    },
    {
      "cell_type": "code",
      "metadata": {
        "colab": {
          "base_uri": "https://localhost:8080/"
        },
        "id": "G7f8mOGH10gZ",
        "outputId": "de1d6d49-0670-4941-8be6-2fcf4b34b93f"
      },
      "source": [
        "# norm A\n",
        "L2=np.linalg.norm(a, 2)\n",
        "print(L2)"
      ],
      "execution_count": 10,
      "outputs": [
        {
          "output_type": "stream",
          "name": "stdout",
          "text": [
            "33.67491648096547\n"
          ]
        }
      ]
    },
    {
      "cell_type": "code",
      "metadata": {
        "colab": {
          "base_uri": "https://localhost:8080/"
        },
        "id": "ecfdA7oZNqru",
        "outputId": "bc42b123-7e7e-4832-dd01-d7e035f1444d"
      },
      "source": [
        "# sudut antara vektor A dan B\n",
        "cosine=(a@b)/(np.linalg.norm(a) * np.linalg.norm(b))\n",
        "print (cosine)"
      ],
      "execution_count": 11,
      "outputs": [
        {
          "output_type": "stream",
          "name": "stdout",
          "text": [
            "0.9759590023331435\n"
          ]
        }
      ]
    },
    {
      "cell_type": "code",
      "metadata": {
        "colab": {
          "base_uri": "https://localhost:8080/"
        },
        "id": "5B53FH_BPKE_",
        "outputId": "7c0757c8-3901-477a-930f-f9b18ab784bc"
      },
      "source": [
        "theta=np.arccos(cosine)\n",
        "print(theta)"
      ],
      "execution_count": 12,
      "outputs": [
        {
          "output_type": "stream",
          "name": "stdout",
          "text": [
            "0.21971776576153962\n"
          ]
        }
      ]
    },
    {
      "cell_type": "code",
      "metadata": {
        "id": "CPNmx-quPV0Q"
      },
      "source": [
        "# buat vektor ke 2D\n",
        "import matplotlib.pyplot as plt\n",
        "\n",
        "u = np.array([2,5])\n",
        "v = np.array([3,1])\n"
      ],
      "execution_count": 18,
      "outputs": []
    },
    {
      "cell_type": "code",
      "metadata": {
        "colab": {
          "base_uri": "https://localhost:8080/",
          "height": 269
        },
        "id": "tXzU_X8nQhZO",
        "outputId": "7677f7f7-592f-4f98-f862-feb53b93a18b"
      },
      "source": [
        "x_coords, y_coords=zip(u,v)\n",
        "plt.scatter(x_coords, y_coords, color=['r', 'b'])\n",
        "plt.axis([0,6,0,6])\n",
        "plt.grid()\n",
        "plt.show()"
      ],
      "execution_count": 19,
      "outputs": [
        {
          "output_type": "display_data",
          "data": {
            "image/png": "[encoded data removed]",
            "text/plain": [
              "<Figure size 432x288 with 1 Axes>"
            ]
          },
          "metadata": {
            "needs_background": "light"
          }
        }
      ]
    }
  ]
}