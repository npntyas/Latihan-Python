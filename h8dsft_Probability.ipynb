{
  "nbformat": 4,
  "nbformat_minor": 0,
  "metadata": {
    "colab": {
      "name": "h8dsft_Probability.ipynb",
      "provenance": []
    },
    "kernelspec": {
      "name": "python3",
      "display_name": "Python 3"
    },
    "language_info": {
      "name": "python"
    }
  },
  "cells": [
    {
      "cell_type": "code",
      "metadata": {
        "id": "m6KfkFLBetfO"
      },
      "source": [
        "import random\n",
        "from matplotlib import pyplot as plt"
      ],
      "execution_count": 2,
      "outputs": []
    },
    {
      "cell_type": "code",
      "metadata": {
        "colab": {
          "base_uri": "https://localhost:8080/"
        },
        "id": "W7sO5hi4hqFk",
        "outputId": "ddd7f612-b812-4567-a295-3bcd27b22779"
      },
      "source": [
        "#Mensimulasikan melempar koin sebanyak 50.000 kali dengan assign value kepala dan ekor\n",
        "kepala_ekor = [0,1]\n",
        "\n",
        "trials = 50000\n",
        "trial = 0\n",
        "while trial<trials:\n",
        "  trial = trial + 1\n",
        "  toss = random.randint(0,1)\n",
        "  kepala_ekor[toss] = kepala_ekor[toss] + 1\n",
        "\n",
        "print (kepala_ekor)"
      ],
      "execution_count": 5,
      "outputs": [
        {
          "output_type": "stream",
          "name": "stdout",
          "text": [
            "[24734, 25267]\n"
          ]
        }
      ]
    },
    {
      "cell_type": "code",
      "metadata": {
        "colab": {
          "base_uri": "https://localhost:8080/",
          "height": 320
        },
        "id": "zVt9Se5akFt3",
        "outputId": "32cce2b0-3c12-429c-ae37-2e555665f775"
      },
      "source": [
        "#Menampilkan probabilitas kepala dan ekor yang muncul setelah pelemparan 50.000 kali\n",
        "print (kepala_ekor)\n",
        "plt.figure(figsize=(5,5))\n",
        "plt.pie(kepala_ekor, labels=['kepala', 'ekor'])\n",
        "plt.legend()\n",
        "plt.show()"
      ],
      "execution_count": 12,
      "outputs": [
        {
          "output_type": "stream",
          "name": "stdout",
          "text": [
            "[24734, 25267]\n"
          ]
        },
        {
          "output_type": "display_data",
          "data": {
            "image/png": "[encoded data removed]",
            "text/plain": [
              "<Figure size 360x360 with 1 Axes>"
            ]
          },
          "metadata": {}
        }
      ]
    }
  ]
}